{
 "cells": [
  {
   "cell_type": "markdown",
   "metadata": {},
   "source": [
    "## COM361 &mdash; Introdução à Otimização &mdash; 2023, Prof. Amit ##\n",
    "\n",
    "# Descobrindo equações governantes a partir de dados por identificação esparsa de sistemas dinâmicos não lineares. #\n",
    "\n",
    "#### Leonardo Soares da Costa Tanaka (leonardo.tanaka@poli.ufrj.br), Lincoln Rodrigues Proença (lincoln22220@poli.ufrj.br )\n",
    "\n",
    "*****\n",
    "\n",
    "### Índice\n",
    "\n",
    "1. [Introdução](#1.-Introdução)\n",
    "1. [Modelo Matemático](#2.-Modelo Mathemático)\n",
    "1. [Solução](#3.-Solução)\n",
    "1. [Resultados e Discussão](#4.-Resultados-e-discussão)\n",
    "  1. [Subseção Opcional](#4.A.-Acrescente-subseções-se-necessário)\n",
    "1. [Conclusão](#5.-Conclusão)\n",
    "1. [Referências bibliográficas](#6.-Referências bibliográficas)"
   ]
  },
  {
   "cell_type": "markdown",
   "metadata": {
    "collapsed": true
   },
   "source": [
    "## 1. Introdução ##\n",
    "\n",
    "As primeiras frases devem dar um panorama geral do projeto. Em seguida, uma descrição mais detalhada do problema que será resolvido, uma breve história do surgimento do problema (com [citations](https://en.wikipedia.org/wiki/Citation)) que será abordado, porque é importante e interessante e quaisquer outros fatos correlatos que queira expor. A fonte dos dados utilizados deve ser explicitada (pesquisa? internet? gerados sinteticamente?). Também deve ser feito um esboço do restante do relatório.\n",
    "\n",
    "\n",
    "Esta seção deve ter entre 300 e 600 palavras, e **deve ser acessível a leigos** (não deve ser suposto que o leitor desta seção cursou esta disciplina). Podem incluir figuras se acharem convenientes:\n",
    "\n",
    "![fixit flowchart][flow]\n",
    "\n",
    "Para mais ajuda no uso de Markdown, veja [este link](https://github.com/adam-p/markdown-here/wiki/Markdown-Cheatsheet).\n",
    "\n",
    "[flow]: https://s-media-cache-ak0.pinimg.com/736x/f5/75/c5/f575c53b93724808c6f0211890a54900.jpg"
   ]
  },
  {
   "cell_type": "markdown",
   "metadata": {
    "collapsed": true
   },
   "source": [
    "## 2. Modelo matemático ##\n",
    "\n",
    "Esta seção deve conter uma discussão das hipóteses de modelagem feitas no problema (conforme a origem do problema: física? economia? redes sociais? ...). Explique a escolha das variáveis de decisão, as restrições e a função objetivo. Finalmente, mostre o problema de otimização escrite em forma padrão. Discute o tipo de modelo adotado (LP, QP, MIP, etc.). Equações devem ser formatadas em $\\LaTeX$ dentro do notebook Julia. Nesta seção, pode supor que **o leitor está familiarizado com a matéria\"**.\n",
    "\n",
    "Eis um exemplo de uma equação:\n",
    "\n",
    "$$\n",
    "\\begin{bmatrix}\n",
    "  1 & 2 \\\\\n",
    "  3 & 4\n",
    "\\end{bmatrix}\n",
    "\\begin{bmatrix} x \\\\ y \\end{bmatrix} =\n",
    "\\begin{bmatrix} 5 \\\\ 6 \\end{bmatrix}\n",
    "$$\n",
    "\n",
    "Aqui está um exemplo de um problema de otimização no formato padrão:\n",
    "\n",
    "$$\n",
    "\\begin{aligned}\n",
    "\\underset{x \\in \\mathbb{R^n}}{\\text{maximize}}\\qquad& f_0(x) \\\\\n",
    "\\text{sujeito a:}\\qquad& f_i(x) \\le 0 && i=1,\\dots,m\\\\\n",
    "& h_j(x) = 0 && j=1,\\dots,r\n",
    "\\end{aligned}\n",
    "$$\n",
    "\n",
    "Para algumas dicas rápidas sobre a utilizção de $\\LaTeX$, veja [este cheat sheet](http://users.dickinson.edu/~richesod/latex/latexcheatsheet.pdf)."
   ]
  },
  {
   "cell_type": "markdown",
   "metadata": {
    "collapsed": true
   },
   "source": [
    "## 3. Solução ##\n",
    "\n",
    "Nesta seção, coloque seu código em Julia + JuMP e resolva o problema proposto. Seu código deve ser limpo (não macarrônico!), de fácil leitura, bem comentado e anotado e deve compilar sem erros em Julia 1.x, x$\\geq 1$! Não valem códigos em outras linguagens. **Vou rodar seu código para avaliar seu projeto**. Sugiro a utilização de múltiplos blocos de códigos separados por blocos de texto (células Markdown) explicando as várias partes da sua solução. Sugiro também a resolução de várias versões do seu problema, com modelos e hipóteses diferentes.\n",
    "\n",
    "É permitido chamar pacotes externos, mas evite a utilização de bibliotecas exóticas (pois, em geral, não rodam em todas as versões de Julia, e terei que instalar a mesma versão que você usou, ou rodar na plataforma Google Colab, que gostaria de evitar)."
   ]
  },
  {
   "cell_type": "code",
   "execution_count": 3,
   "metadata": {},
   "outputs": [
    {
     "name": "stdout",
     "output_type": "stream",
     "text": [
      "O número total de cavalos é: 10.0\n",
      "O número total de jegues é: 0.0\n",
      "O número total de cabras é: 0.0\n"
     ]
    }
   ],
   "source": [
    "# Este é um exemplo de um bloco de código\n",
    "using JuMP, Clp\n",
    "m = Model(with_optimizer(Clp.Optimizer,LogLevel=0) )\n",
    "bichos = [:cavalos, :jegues, :cabras]  # estes são os bichos \n",
    "@variable(m, x[bichos] >= 0)          # as quantidades de cada um (não podem ser negativas)\n",
    "@constraint(m, sum(x) <= 10)          # não podemos ter mais de 10 no total.\n",
    "@objective(m, Max, x[:cavalos])        # queremos maximizar o número de cavalos\n",
    "optimize!(m)\n",
    "\n",
    "for i in bichos\n",
    "    println(\"O número total de \", i, \" é: \", JuMP.value.(x[i]))     # imprime o resultado na tela\n",
    "end"
   ]
  },
  {
   "cell_type": "markdown",
   "metadata": {},
   "source": [
    "**Tenha certeza de que seu código compila corretamente! Rodarei seu código!**"
   ]
  },
  {
   "cell_type": "markdown",
   "metadata": {
    "collapsed": true
   },
   "source": [
    "## 4. Resultados e discussão ##\n",
    "\n",
    "Neste seção, os resultados obtidos serão exibidos e discutidos. Mostre figuras, gráficos, imagens, curvas de compromisso, e o que mais puder melhor ilustrar seus resultados. A discussão deverá explicar o que significam os resultados e como interpretá-los. As limitações da sua abordagem/modelo também devem ser colocadas, bem como uma análise da sensibilidade dos resultados em relação às hipóteses feitas.\n",
    "\n",
    "\n",
    "Utilize plots (veja exemplos  `PyPlot` [aqui](https://gist.github.com/gizmaa/7214002))\n",
    "\n",
    "Aqui está um exemplo de uma tabela (em Markdown):\n",
    "\n",
    "| Tabelas        | São           | Boas  |\n",
    "| ------------- |:-------------:| -----:|\n",
    "| col 3 é      | alinhado à direita |\\$1600 |\n",
    "| col 2 é      | centrado      |  \\$12 |\n",
    "| texto | também serve      |   \\$1 |\n",
    "\n",
    "### 4.A. Subseções devem ser utilizadas para organizar seu texto.\n",
    "\n",
    "#### 4.A.a. ou até subsubseções."
   ]
  },
  {
   "cell_type": "markdown",
   "metadata": {
    "collapsed": true
   },
   "source": [
    "## 5. Conclusão ##\n",
    "\n",
    "Faça um resumo do que encontrou e dos seus resultados, e fale de pelo menos uma direção na qual  seu trabalho pode ser desenvolvido no futuro, algo que poderia ser interessante em decorrência do seu projeto.\n"
   ]
  },
  {
   "cell_type": "markdown",
   "metadata": {},
   "source": [
    "## 6. Referências bibliográficas ##\n",
    "\n",
    "Nesta seção, cite _*todas*_ as referências utilizadas, na formulação matemática, no código ou para extrair dados ou figuras. Omissão de fontes é transgressão grave, denominada plágio."
   ]
  }
 ],
 "metadata": {
  "@webio": {
   "lastCommId": null,
   "lastKernelId": null
  },
  "kernelspec": {
   "display_name": "Julia 1.10.0-beta3",
   "language": "julia",
   "name": "julia-1.10"
  },
  "language_info": {
   "file_extension": ".jl",
   "mimetype": "application/julia",
   "name": "julia",
   "version": "1.10.0"
  }
 },
 "nbformat": 4,
 "nbformat_minor": 1
}
